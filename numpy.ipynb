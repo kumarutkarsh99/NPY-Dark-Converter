{
 "cells": [
  {
   "cell_type": "code",
   "execution_count": 1,
   "id": "86215448-d397-4682-b8a4-4e3cefadd790",
   "metadata": {},
   "outputs": [],
   "source": [
    "#numpy array and basics"
   ]
  },
  {
   "cell_type": "code",
   "execution_count": 68,
   "id": "f74a81a9-4e9a-45fb-a0a3-75e30b2d1f60",
   "metadata": {},
   "outputs": [],
   "source": [
    "### creating array from list\n",
    "import numpy as np\n",
    "import matplotlib.pyplot as plt\n",
    "import time "
   ]
  },
  {
   "cell_type": "code",
   "execution_count": 3,
   "id": "eeb88c8c-2562-4f6c-a654-cebdbe80e199",
   "metadata": {},
   "outputs": [
    {
     "name": "stdout",
     "output_type": "stream",
     "text": [
      "1d array:  [1 2 3 4]\n",
      "2d array:  [[1 2 3 4]\n",
      " [5 6 7 8]]\n"
     ]
    }
   ],
   "source": [
    "arr_1d = np.array([1,2,3,4])\n",
    "print(\"1d array: \", arr_1d)\n",
    "\n",
    "arr_2d = np.array([[1,2,3,4],[5,6,7,8]])\n",
    "print(\"2d array: \", arr_2d)"
   ]
  },
  {
   "cell_type": "code",
   "execution_count": 4,
   "id": "57d5c2da-55ff-42bf-b1b7-a7b7588565ff",
   "metadata": {},
   "outputs": [],
   "source": [
    "### list vs numpy array"
   ]
  },
  {
   "cell_type": "code",
   "execution_count": 5,
   "id": "572f38b3-65ce-4e81-ba2e-cb70b2563222",
   "metadata": {},
   "outputs": [
    {
     "name": "stdout",
     "output_type": "stream",
     "text": [
      "[1, 2, 3, 1, 2, 3]\n",
      "[2 4 6]\n"
     ]
    }
   ],
   "source": [
    "py_list = [1,2,3]\n",
    "arrd = np.array([1,2,3])\n",
    "\n",
    "print(py_list*2)\n",
    "print(arrd*2) #element wise multiplication"
   ]
  },
  {
   "cell_type": "code",
   "execution_count": 6,
   "id": "55e3da90-0699-4ba3-886d-49b794c03ad6",
   "metadata": {},
   "outputs": [
    {
     "name": "stdout",
     "output_type": "stream",
     "text": [
      "End:  0.060364484786987305\n",
      "End:  0.006148338317871094\n"
     ]
    }
   ],
   "source": [
    "start = time.time()\n",
    "\n",
    "py_list = [i*2 for i in range(1000000)]\n",
    "print(\"End: \", time.time()-start)\n",
    "\n",
    "start = time.time()\n",
    "\n",
    "arr = np.arange(1000000)*2\n",
    "print(\"End: \", time.time()-start)"
   ]
  },
  {
   "cell_type": "code",
   "execution_count": 7,
   "id": "3a791221-b592-4254-a3e9-2ca94d6c8037",
   "metadata": {},
   "outputs": [],
   "source": [
    "# creating array from scratch"
   ]
  },
  {
   "cell_type": "code",
   "execution_count": 32,
   "id": "1cf3d4ad-379a-418a-a4dc-a74714669db1",
   "metadata": {},
   "outputs": [
    {
     "name": "stdout",
     "output_type": "stream",
     "text": [
      "[[0. 0. 0. 0.]\n",
      " [0. 0. 0. 0.]\n",
      " [0. 0. 0. 0.]]\n",
      "[[1. 1. 1.]\n",
      " [1. 1. 1.]]\n",
      "[[7 7]\n",
      " [7 7]]\n",
      "[[0.08029728 0.4399804  0.06477963]\n",
      " [0.10696152 0.44181859 0.85070504]]\n",
      "[ 0  2  4  6  8 10]\n"
     ]
    }
   ],
   "source": [
    "zeros = np.zeros((3,4))\n",
    "print(zeros)\n",
    "\n",
    "ones = np.ones((2,3))\n",
    "print(ones)\n",
    "\n",
    "full = np.full((2,2),7)\n",
    "print(full)\n",
    "\n",
    "random = np.random.random((2,3))\n",
    "print(random)\n",
    "\n",
    "sequence = np.arange(0,11,2)\n",
    "print(sequence)"
   ]
  },
  {
   "cell_type": "code",
   "execution_count": 9,
   "id": "54b65d78-52cb-4c10-94a6-0a81b79d1eff",
   "metadata": {},
   "outputs": [],
   "source": [
    "# vector, matrix and tensor"
   ]
  },
  {
   "cell_type": "code",
   "execution_count": 10,
   "id": "516cc0ed-a9ae-4a9c-a058-490b05e651ad",
   "metadata": {},
   "outputs": [
    {
     "name": "stdout",
     "output_type": "stream",
     "text": [
      "[1 2 3 4]\n",
      "[[1 2 3]\n",
      " [2 4 6]]\n",
      "[[[1 2]\n",
      "  [2 3]]\n",
      "\n",
      " [[3 4]\n",
      "  [4 5]]]\n"
     ]
    }
   ],
   "source": [
    "vector = np.array([1,2,3,4])\n",
    "print(vector)\n",
    "\n",
    "matrix = np.array([[1,2,3],\n",
    "                  [2,4,6]])\n",
    "print(matrix)\n",
    "\n",
    "tensor = np.array([[[1,2],[2,3]],\n",
    "                   [[3,4],[4,5]]])\n",
    "print(tensor)"
   ]
  },
  {
   "cell_type": "code",
   "execution_count": 11,
   "id": "82303dc1-0ea5-4b7f-b98d-9ed156c89045",
   "metadata": {},
   "outputs": [],
   "source": [
    "# array properties"
   ]
  },
  {
   "cell_type": "code",
   "execution_count": 12,
   "id": "19afc151-6296-4015-b6e5-e25341c7ff7b",
   "metadata": {},
   "outputs": [
    {
     "name": "stdout",
     "output_type": "stream",
     "text": [
      "(2, 3)\n",
      "2\n",
      "6\n",
      "float64\n"
     ]
    }
   ],
   "source": [
    "arr = np.array([[1,2,3],[4,5,6.8]])\n",
    "print(arr.shape)\n",
    "print(arr.ndim)\n",
    "print(arr.size)\n",
    "print(arr.dtype)"
   ]
  },
  {
   "cell_type": "code",
   "execution_count": 13,
   "id": "24149623-8c93-4d99-909c-a489cc3ead01",
   "metadata": {},
   "outputs": [],
   "source": [
    "# array reshaping"
   ]
  },
  {
   "cell_type": "code",
   "execution_count": 33,
   "id": "10c27fea-8049-4acf-a901-46b5dc342d0a",
   "metadata": {},
   "outputs": [
    {
     "name": "stdout",
     "output_type": "stream",
     "text": [
      "[ 0  1  2  3  4  5  6  7  8  9 10 11]\n",
      "[[ 0  1  2  3]\n",
      " [ 4  5  6  7]\n",
      " [ 8  9 10 11]]\n",
      "[ 0  1  2  3  4  5  6  7  8  9 10 11]\n",
      "[ 0  1  2  3  4  5  6  7  8  9 10 11]\n",
      "[[ 0  4  8]\n",
      " [ 1  5  9]\n",
      " [ 2  6 10]\n",
      " [ 3  7 11]]\n"
     ]
    }
   ],
   "source": [
    "arr = np.arange(12)\n",
    "print(arr)\n",
    "\n",
    "reshaped = arr.reshape((3,4))\n",
    "print(reshaped)\n",
    "\n",
    "flat = reshaped.flatten()\n",
    "print(flat)\n",
    "\n",
    "#returns view instead of copy\n",
    "ravel = reshaped.ravel()\n",
    "print(ravel)\n",
    "\n",
    "transpose = reshaped.T\n",
    "print(transpose)"
   ]
  },
  {
   "cell_type": "code",
   "execution_count": 15,
   "id": "7b083ab0-b9b2-44d6-aedd-e11c1ac56af6",
   "metadata": {},
   "outputs": [],
   "source": [
    "### numpy array operations"
   ]
  },
  {
   "cell_type": "code",
   "execution_count": 16,
   "id": "17adc5da-7f62-4ebd-bc90-b946f0e7a965",
   "metadata": {},
   "outputs": [
    {
     "name": "stdout",
     "output_type": "stream",
     "text": [
      "[ 1  2  3  4  5  6  7  8  9 10]\n",
      "basic slicing: [3 4 5 6 7 8]\n",
      "with step: [2 4 6 8]\n",
      "negative indexing: 8\n"
     ]
    }
   ],
   "source": [
    "arr = np.arange(1,11)\n",
    "print(arr)\n",
    "print(\"basic slicing:\", arr[2:8])\n",
    "print(\"with step:\", arr[1:8:2])\n",
    "print(\"negative indexing:\", arr[-3])"
   ]
  },
  {
   "cell_type": "code",
   "execution_count": 17,
   "id": "43729149-d4af-480d-8ba6-32e8de992150",
   "metadata": {},
   "outputs": [
    {
     "name": "stdout",
     "output_type": "stream",
     "text": [
      "[[1 2 3]\n",
      " [4 5 6]\n",
      " [7 8 9]]\n",
      "5\n",
      "Entire row: [1 2 3]\n",
      "Entire column: [1 4 7]\n"
     ]
    }
   ],
   "source": [
    "arr_2d = np.array([[1,2,3],[4,5,6],[7,8,9]])\n",
    "print(arr_2d)\n",
    "print(arr_2d[(1,1)])\n",
    "print(\"Entire row:\", arr_2d[0])\n",
    "print(\"Entire column:\", arr_2d[:,0])"
   ]
  },
  {
   "cell_type": "code",
   "execution_count": 18,
   "id": "107bb9cd-a0b4-4a38-83f8-f211e3386aef",
   "metadata": {},
   "outputs": [],
   "source": [
    "#sorting"
   ]
  },
  {
   "cell_type": "code",
   "execution_count": 19,
   "id": "aa75ed7b-3c0e-4f31-9b5c-f13a98a4e204",
   "metadata": {},
   "outputs": [
    {
     "name": "stdout",
     "output_type": "stream",
     "text": [
      "Sorted array: [1 2 3 4 4 6 7 8 9]\n"
     ]
    }
   ],
   "source": [
    "arr = np.array([1,2,4,7,4,3,6,8,9])\n",
    "print(\"Sorted array:\", np.sort(arr))"
   ]
  },
  {
   "cell_type": "code",
   "execution_count": 20,
   "id": "2280bb60-40d1-4a97-9c7c-565ea9a595fe",
   "metadata": {},
   "outputs": [
    {
     "name": "stdout",
     "output_type": "stream",
     "text": [
      "Sorted cwise: [[0 2 3]\n",
      " [1 2 3]\n",
      " [5 8 9]]\n",
      "Sorted rwise: [[1 2 3]\n",
      " [2 5 9]\n",
      " [0 3 8]]\n"
     ]
    }
   ],
   "source": [
    "arr_2d = np.array([[1,2,3], [5,2,9], [0, 8, 3]])\n",
    "print(\"Sorted cwise:\", np.sort(arr_2d, axis=0))\n",
    "print(\"Sorted rwise:\", np.sort(arr_2d, axis=1))"
   ]
  },
  {
   "cell_type": "code",
   "execution_count": 21,
   "id": "95a0a2c8-7a76-4d7e-ae88-b9d94eeeaeb5",
   "metadata": {},
   "outputs": [],
   "source": [
    "# filter"
   ]
  },
  {
   "cell_type": "code",
   "execution_count": 22,
   "id": "0ffc2949-2ca3-4dda-9f22-f78fbc5a0731",
   "metadata": {},
   "outputs": [
    {
     "data": {
      "text/plain": [
       "array([2, 4, 4, 6, 8])"
      ]
     },
     "execution_count": 22,
     "metadata": {},
     "output_type": "execute_result"
    }
   ],
   "source": [
    "even = arr[arr%2==0]\n",
    "even"
   ]
  },
  {
   "cell_type": "code",
   "execution_count": 23,
   "id": "8158b4a0-f0d8-4e4b-9439-0d2ba5080baf",
   "metadata": {},
   "outputs": [],
   "source": [
    "# filter with mask"
   ]
  },
  {
   "cell_type": "code",
   "execution_count": 24,
   "id": "81eda07e-2b95-4e7e-a684-2e23f914c21f",
   "metadata": {},
   "outputs": [
    {
     "name": "stdout",
     "output_type": "stream",
     "text": [
      "[7 6 8 9]\n"
     ]
    }
   ],
   "source": [
    "mask = arr>5\n",
    "print(arr[mask])"
   ]
  },
  {
   "cell_type": "code",
   "execution_count": 25,
   "id": "26df9bb9-be5e-448f-ba6d-c16a62e70b6a",
   "metadata": {},
   "outputs": [],
   "source": [
    "#fancy indexing vs np.where"
   ]
  },
  {
   "cell_type": "code",
   "execution_count": 26,
   "id": "420612c3-b308-4aca-b2fd-8d2bd11d2a47",
   "metadata": {},
   "outputs": [
    {
     "name": "stdout",
     "output_type": "stream",
     "text": [
      "[1 4 4]\n"
     ]
    }
   ],
   "source": [
    "indices = [0,2,4]\n",
    "print(arr[indices])"
   ]
  },
  {
   "cell_type": "code",
   "execution_count": 27,
   "id": "aad0e0c0-c033-42e1-9562-cf57addb0286",
   "metadata": {},
   "outputs": [
    {
     "name": "stdout",
     "output_type": "stream",
     "text": [
      "(array([3, 6, 7, 8]),)\n",
      "[7 6 8 9]\n"
     ]
    }
   ],
   "source": [
    "where_result = np.where(arr>5)\n",
    "print(where_result)\n",
    "print(arr[where_result])"
   ]
  },
  {
   "cell_type": "code",
   "execution_count": 28,
   "id": "98ff752e-d7b6-4939-a562-43a97d0b6df5",
   "metadata": {},
   "outputs": [
    {
     "name": "stdout",
     "output_type": "stream",
     "text": [
      "['false' 'false' 'false' 'true' 'false' 'false' 'true' 'true' 'true']\n",
      "[ 1  2  4 28  4  3 24 32 36]\n"
     ]
    }
   ],
   "source": [
    "cond_array = np.where(arr > 5, \"true\", \"false\")\n",
    "print(cond_array)\n",
    "cond_array = np.where(arr > 5, arr*4, arr)\n",
    "print(cond_array)"
   ]
  },
  {
   "cell_type": "code",
   "execution_count": null,
   "id": "e86f1761-8009-464a-a3ab-d1a01d1b414d",
   "metadata": {},
   "outputs": [],
   "source": [
    "## add or remove data"
   ]
  },
  {
   "cell_type": "code",
   "execution_count": 36,
   "id": "6775761d-4676-4d33-8a32-29eaefae397e",
   "metadata": {},
   "outputs": [
    {
     "name": "stdout",
     "output_type": "stream",
     "text": [
      "[5 7 9]\n",
      "[1 2 3 4 5 6]\n"
     ]
    }
   ],
   "source": [
    "arr1 = np.array([1,2,3])\n",
    "arr2 = np.array([4,5,6])\n",
    "\n",
    "combined = arr1+arr2\n",
    "print(combined)\n",
    "\n",
    "combined = np.concatenate((arr1,arr2))\n",
    "print(combined)"
   ]
  },
  {
   "cell_type": "code",
   "execution_count": 37,
   "id": "88ab9576-3d33-411c-8433-1dbad536927b",
   "metadata": {},
   "outputs": [],
   "source": [
    "## array compatibility"
   ]
  },
  {
   "cell_type": "code",
   "execution_count": 43,
   "id": "a8107eb7-b760-48d2-b4f3-5e72a1eca88d",
   "metadata": {},
   "outputs": [
    {
     "name": "stdout",
     "output_type": "stream",
     "text": [
      "Compatibility:  True\n",
      "Compatibility:  False\n"
     ]
    }
   ],
   "source": [
    "arr1 = np.array([1,2,3])\n",
    "arr2 = np.array([6,2,3, 4])\n",
    "arr3 = np.array([7,8,9])\n",
    "\n",
    "print(\"Compatibility: \", arr1.shape == arr3.shape)\n",
    "print(\"Compatibility: \", arr1.shape == arr2.shape)"
   ]
  },
  {
   "cell_type": "code",
   "execution_count": 45,
   "id": "ef869cea-13bf-4164-a9a0-740052f52201",
   "metadata": {},
   "outputs": [],
   "source": [
    "### add row/column"
   ]
  },
  {
   "cell_type": "code",
   "execution_count": 49,
   "id": "95699171-5d3b-42b6-af0c-0cab5ceec14f",
   "metadata": {},
   "outputs": [
    {
     "name": "stdout",
     "output_type": "stream",
     "text": [
      "[[1 2]\n",
      " [3 4]\n",
      " [5 6]]\n",
      "[[1 2 7]\n",
      " [3 4 8]]\n"
     ]
    }
   ],
   "source": [
    "arr1 = np.array([[1,2], [3,4]])\n",
    "new_row = np.array([[5,6]])\n",
    "new_col = np.array([[7],[8]])\n",
    "arr2 = np.vstack((arr1, new_row))\n",
    "print(arr2)\n",
    "arr3 = np.hstack((arr1, new_col))\n",
    "print(arr3)"
   ]
  },
  {
   "cell_type": "code",
   "execution_count": 50,
   "id": "d2ad1898-9959-4d1d-b9a0-7da9755bf4f7",
   "metadata": {},
   "outputs": [],
   "source": [
    "#delete data"
   ]
  },
  {
   "cell_type": "code",
   "execution_count": 67,
   "id": "77010cc7-005b-4ed5-90e1-a4f4fb483a49",
   "metadata": {},
   "outputs": [
    {
     "name": "stdout",
     "output_type": "stream",
     "text": [
      "[ 1  2  3  4  5  6  8  9 10]\n",
      "Array after deletion [ 1  9 10]\n"
     ]
    }
   ],
   "source": [
    "arr1 = np.arange(1,11)\n",
    "deleted = np.delete(arr1, 6)\n",
    "print(deleted)\n",
    "deleted = np.delete(arr1, slice(1,8,1))\n",
    "print(\"Array after deletion\", deleted)"
   ]
  },
  {
   "cell_type": "code",
   "execution_count": 73,
   "id": "4b8650ec-f965-4322-b0d5-aabc409636b3",
   "metadata": {},
   "outputs": [
    {
     "name": "stdout",
     "output_type": "stream",
     "text": [
      "=== Zomato Sales Analysis ===\n",
      "Sales data shape: (5, 5)\n",
      "Sample data: [[     1 150000 180000 220000 250000]\n",
      " [     2 120000 140000 160000 190000]\n",
      " [     3 200000 230000 260000 300000]]\n",
      "Sample data: [[180000 220000 250000]\n",
      " [140000 160000 190000]\n",
      " [230000 260000 300000]\n",
      " [210000 240000 270000]\n",
      " [185000 205000 230000]]\n"
     ]
    }
   ],
   "source": [
    "sales_data = np.array([\n",
    "    [1, 150000, 180000, 220000, 250000],  # Paradise Biryani\n",
    "    [2, 120000, 140000, 160000, 190000],  # Beijing Bites\n",
    "    [3, 200000, 230000, 260000, 300000],  # Pizza Hub\n",
    "    [4, 180000, 210000, 240000, 270000],  # Burger Point\n",
    "    [5, 160000, 185000, 205000, 230000]   # Chai Point\n",
    "])\n",
    "\n",
    "print(\"=== Zomato Sales Analysis ===\")\n",
    "print(\"Sales data shape:\", sales_data.shape)\n",
    "print(\"Sample data:\", sales_data[:3])\n",
    "print(\"Sample data:\", sales_data[:, 2:])"
   ]
  },
  {
   "cell_type": "code",
   "execution_count": 77,
   "id": "5e099b87-ac9e-4b5e-9667-2391eadda3ec",
   "metadata": {},
   "outputs": [
    {
     "name": "stdout",
     "output_type": "stream",
     "text": [
      "[ 810000  945000 1085000 1240000]\n",
      "[800000 610000 990000 900000 780000]\n"
     ]
    }
   ],
   "source": [
    "#total sales per year\n",
    "yearly_data = np.sum(sales_data[:, 1:], axis=0)\n",
    "print(yearly_data)\n",
    "yearly_data = np.sum(sales_data[:, 1:], axis=1)\n",
    "print(yearly_data)"
   ]
  },
  {
   "cell_type": "code",
   "execution_count": 79,
   "id": "3e7cb266-c8c9-4293-b33a-f041030059a2",
   "metadata": {},
   "outputs": [
    {
     "name": "stdout",
     "output_type": "stream",
     "text": [
      "[150000 120000 200000 180000 160000]\n"
     ]
    }
   ],
   "source": [
    "# minimum sales per year\n",
    "min_sales = np.min(sales_data[:, 1:], axis=1)\n",
    "print(min_sales)"
   ]
  },
  {
   "cell_type": "code",
   "execution_count": 80,
   "id": "77a410fc-9af7-4b84-89d8-bc0f48204f17",
   "metadata": {},
   "outputs": [
    {
     "name": "stdout",
     "output_type": "stream",
     "text": [
      "[200000 230000 260000 300000]\n"
     ]
    }
   ],
   "source": [
    "# maximum sales per year\n",
    "max_sales = np.max(sales_data[:, 1:], axis=0)\n",
    "print(max_sales)"
   ]
  },
  {
   "cell_type": "code",
   "execution_count": 81,
   "id": "6813ab6a-7ffe-4b91-835a-a2f093d2e96b",
   "metadata": {},
   "outputs": [
    {
     "name": "stdout",
     "output_type": "stream",
     "text": [
      "[162000. 189000. 217000. 248000.]\n"
     ]
    }
   ],
   "source": [
    "#average sales per restaurant\n",
    "avg_sales = np.mean(sales_data[:, 1:], axis=0)\n",
    "print(avg_sales)"
   ]
  },
  {
   "cell_type": "code",
   "execution_count": 82,
   "id": "ad6b795d-9155-4e16-bcf0-962aa16670e5",
   "metadata": {},
   "outputs": [
    {
     "name": "stdout",
     "output_type": "stream",
     "text": [
      "[[150000 330000 550000 800000]\n",
      " [120000 260000 420000 610000]\n",
      " [200000 430000 690000 990000]\n",
      " [180000 390000 630000 900000]\n",
      " [160000 345000 550000 780000]]\n"
     ]
    }
   ],
   "source": [
    "cumsum = np.cumsum(sales_data[:, 1:], axis=1)\n",
    "print(cumsum)"
   ]
  },
  {
   "cell_type": "code",
   "execution_count": 97,
   "id": "ddafe391-44d0-427f-b6eb-73c3511dfc6a",
   "metadata": {},
   "outputs": [
    {
     "data": {
      "image/png": "[encoded data removed]",
      "text/plain": [
       "<Figure size 800x600 with 1 Axes>"
      ]
     },
     "metadata": {},
     "output_type": "display_data"
    }
   ],
   "source": [
    "plt.figure(figsize=(8,6))\n",
    "years = np.arange(2001, 2001 + cumsum.shape[1])\n",
    "plt.plot(years, np.mean(cumsum, axis=0), marker='o')\n",
    "plt.title(\"Average Cumulative Sales Across All Restaurants\")\n",
    "plt.xlabel(\"Year\")\n",
    "plt.ylabel(\"Sales\")\n",
    "plt.grid(True)\n",
    "plt.show()"
   ]
  },
  {
   "cell_type": "code",
   "execution_count": 98,
   "id": "4236371a-9ab2-40f4-b8df-288552a10056",
   "metadata": {},
   "outputs": [],
   "source": [
    "# vector operations"
   ]
  },
  {
   "cell_type": "code",
   "execution_count": 100,
   "id": "60de79ea-e20e-4b70-a0fe-0131730d6b35",
   "metadata": {},
   "outputs": [
    {
     "name": "stdout",
     "output_type": "stream",
     "text": [
      "addition:  [ 7  9 11 13 15]\n",
      "multiplication:  [ 6 14 24 36 50]\n",
      "dot:  130\n"
     ]
    }
   ],
   "source": [
    "arr1 = np.array([1,2,3,4,5])\n",
    "arr2 = np.array([6,7,8,9,10])\n",
    "\n",
    "print(\"addition: \", arr1+arr2)\n",
    "print(\"multiplication: \", arr1*arr2)\n",
    "print(\"dot: \", np.dot(arr1,arr2))"
   ]
  },
  {
   "cell_type": "code",
   "execution_count": 102,
   "id": "f6f59c37-e10a-43b5-8681-48de5fb62293",
   "metadata": {},
   "outputs": [
    {
     "name": "stdout",
     "output_type": "stream",
     "text": [
      "0.26554161733900966\n"
     ]
    }
   ],
   "source": [
    "angle = np.arccos(np.dot(arr1, arr2)/(np.linalg.norm(arr1)*np.linalg.norm(arr2)))\n",
    "print(angle)"
   ]
  },
  {
   "cell_type": "code",
   "execution_count": 103,
   "id": "46344840-207a-4202-8679-1b7d48529f9d",
   "metadata": {},
   "outputs": [
    {
     "name": "stdout",
     "output_type": "stream",
     "text": [
      "['BIRYANI' 'CHINEESE' 'PIZZA' 'BURGER' 'CAFE']\n"
     ]
    }
   ],
   "source": [
    "restaurants = np.array(['biryani','chineese', 'pizza', 'burger', 'cafe'])\n",
    "vectorized_upper = np.vectorize(str.upper)\n",
    "print(vectorized_upper(restaurants))"
   ]
  },
  {
   "cell_type": "code",
   "execution_count": 112,
   "id": "28e63825-0e87-4c7a-925d-b21452c17b2a",
   "metadata": {},
   "outputs": [
    {
     "name": "stdout",
     "output_type": "stream",
     "text": [
      "[[12500.   15000.   18333.33 20833.33]\n",
      " [10000.   11666.66 13333.33 15833.33]\n",
      " [16666.66 19166.66 21666.66 25000.  ]\n",
      " [15000.   17500.   20000.   22500.  ]\n",
      " [13333.33 15416.66 17083.33 19166.66]]\n"
     ]
    }
   ],
   "source": [
    "monthly_avg = sales_data[:, 1:]/12\n",
    "trunc_avg = np.trunc(monthly_avg*100)/100\n",
    "print(trunc_avg)"
   ]
  }
 ],
 "metadata": {
  "kernelspec": {
   "display_name": "Python 3 (ipykernel)",
   "language": "python",
   "name": "python3"
  },
  "language_info": {
   "codemirror_mode": {
    "name": "ipython",
    "version": 3
   },
   "file_extension": ".py",
   "mimetype": "text/x-python",
   "name": "python",
   "nbconvert_exporter": "python",
   "pygments_lexer": "ipython3",
   "version": "3.13.3"
  }
 },
 "nbformat": 4,
 "nbformat_minor": 5
}
